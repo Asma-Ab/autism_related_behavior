{
 "cells": [
  {
   "cell_type": "code",
   "execution_count": 50,
   "metadata": {},
   "outputs": [
    {
     "data": {
      "text/plain": [
       "['armFlapping', 'headBanging', 'spinning']"
      ]
     },
     "execution_count": 50,
     "metadata": {},
     "output_type": "execute_result"
    }
   ],
   "source": [
    "from tensorflow.keras.models import load_model\n",
    "import cv2\n",
    "import numpy as np\n",
    "import os\n",
    "model = load_model('C:/Users/abida/Desktop/AIM/ProjetCV/ssbd_classification/LRCN_Conv_LSTM_64_DEF.h5')\n",
    "all_classes_names = os.listdir('C:/Users/abida/Desktop/AIM/ProjetCV/ssbd/')\n",
    "CLASSES_LIST = all_classes_names\n",
    "CLASSES_LIST"
   ]
  },
  {
   "cell_type": "code",
   "execution_count": 56,
   "metadata": {},
   "outputs": [],
   "source": [
    "IMAGE_HEIGHT , IMAGE_WIDTH = 64, 96\n",
    "SEQUENCE_LENGTH = 20\n",
    "def frames_extraction(video_path):\n",
    "\n",
    "    # Si inizializza una lista vuota che conterrà i frames\n",
    "    frames_list = []\n",
    "    \n",
    "    # Si riprende la funzione VideoCapture utilizzata precedentemente per \"leggere\" i video\n",
    "    video_reader = cv2.VideoCapture(video_path)\n",
    "\n",
    "    # A questo punto è necessario estrarre il numero totale di frame per video, questo perché \n",
    "    # si devono estrarre dei frame per tutta la lunghezza dei video e non solamente all'inizio\n",
    "    video_frames_count = int(video_reader.get(cv2.CAP_PROP_FRAME_COUNT))\n",
    "\n",
    "    # In questo modo infatti si suddivide il video in intervalli di frame uguali\n",
    "    skip_frames_window = max(int(video_frames_count/SEQUENCE_LENGTH), 1)\n",
    "\n",
    "    # Si itera un ciclo for che andrà a scegliere 20 frames per video, li ridimensionerà e li normalizzerà singolarmente,\n",
    "    # per poi aggiungerli alla lista inizializzata in precedenza\n",
    "    for frame_counter in range(SEQUENCE_LENGTH):\n",
    "\n",
    "        # In questo modo si selezionano in modo omogeneo i 20 frames sulla totalità del video\n",
    "        video_reader.set(cv2.CAP_PROP_POS_FRAMES, frame_counter * skip_frames_window) \n",
    "        success, frame = video_reader.read() \n",
    "        if not success:\n",
    "            break\n",
    "        resized_frame = cv2.resize(frame, (IMAGE_HEIGHT, IMAGE_WIDTH))\n",
    "        normalized_frame = resized_frame / 255  \n",
    "        frames_list.append(normalized_frame)\n",
    "    video_reader.release()\n",
    "    return frames_list\n",
    "video_path = \"C:/Users/abida/Desktop/AIM/ProjetCV/ssbd/spinning/spinning_1.mp4\"\n",
    "frames = frames_extraction(video_path)\n",
    "\n",
    "frames = np.array(frames)\n",
    "frames = frames * 1\n"
   ]
  },
  {
   "cell_type": "code",
   "execution_count": 57,
   "metadata": {},
   "outputs": [
    {
     "name": "stdout",
     "output_type": "stream",
     "text": [
      "1/1 [==============================] - 0s 127ms/step\n"
     ]
    }
   ],
   "source": [
    "predictions = model.predict(np.expand_dims(frames, axis=0))"
   ]
  },
  {
   "cell_type": "code",
   "execution_count": 58,
   "metadata": {},
   "outputs": [
    {
     "data": {
      "text/plain": [
       "'spinning'"
      ]
     },
     "execution_count": 58,
     "metadata": {},
     "output_type": "execute_result"
    }
   ],
   "source": [
    "CLASSES_LIST = os.listdir('C:/Users/abida/Desktop/AIM/ProjetCV/ssbd')\n",
    "predicted_class_index = np.argmax(predictions)\n",
    "predicted_class = CLASSES_LIST[predicted_class_index]\n",
    "predicted_class"
   ]
  }
 ],
 "metadata": {
  "kernelspec": {
   "display_name": "Python 3",
   "language": "python",
   "name": "python3"
  },
  "language_info": {
   "codemirror_mode": {
    "name": "ipython",
    "version": 3
   },
   "file_extension": ".py",
   "mimetype": "text/x-python",
   "name": "python",
   "nbconvert_exporter": "python",
   "pygments_lexer": "ipython3",
   "version": "3.8.0"
  }
 },
 "nbformat": 4,
 "nbformat_minor": 2
}
