{
 "cells": [
  {
   "cell_type": "code",
   "execution_count": 2,
   "metadata": {},
   "outputs": [],
   "source": [
    "import cv2\n",
    "\n",
    "def split_video(input_video_path, output_folder, clip_duration_seconds):\n",
    "    # Open the video file\n",
    "    video_capture = cv2.VideoCapture(input_video_path)\n",
    "\n",
    "    # Get video properties\n",
    "    fps = int(video_capture.get(cv2.CAP_PROP_FPS))\n",
    "    total_frames = int(video_capture.get(cv2.CAP_PROP_FRAME_COUNT))\n",
    "    duration = total_frames / fps\n",
    "\n",
    "    # Calculate the number of clips\n",
    "    num_clips = int(duration / clip_duration_seconds)\n",
    "\n",
    "    # Read and save video clips\n",
    "    for i in range(num_clips):\n",
    "        start_frame = int(i * clip_duration_seconds * fps)\n",
    "        end_frame = int((i + 1) * clip_duration_seconds * fps)\n",
    "\n",
    "        video_capture.set(cv2.CAP_PROP_POS_FRAMES, start_frame)\n",
    "\n",
    "        clip_frames = []\n",
    "        for _ in range(start_frame, end_frame):\n",
    "            ret, frame = video_capture.read()\n",
    "            if not ret:\n",
    "                break\n",
    "            clip_frames.append(frame)\n",
    "\n",
    "        output_clip_path = f\"{output_folder}/clip_{i + 1}.mp4\"\n",
    "        write_video(output_clip_path, clip_frames, fps)\n",
    "\n",
    "    # Release the video capture object\n",
    "    video_capture.release()\n",
    "\n",
    "def write_video(output_path, frames, fps):\n",
    "    # Get video dimensions from the first frame\n",
    "    height, width, _ = frames[0].shape\n",
    "\n",
    "    # Create VideoWriter object\n",
    "    fourcc = cv2.VideoWriter_fourcc(*\"mp4v\")\n",
    "    out = cv2.VideoWriter(output_path, fourcc, fps, (width, height))\n",
    "\n",
    "    # Write frames to the video file\n",
    "    for frame in frames:\n",
    "        out.write(frame)\n",
    "\n",
    "    # Release the VideoWriter object\n",
    "    out.release()\n",
    "\n",
    "if __name__ == \"__main__\":\n",
    "    input_video_path = r\"C:\\Users\\abida\\Desktop\\AIM\\ProjetCV\\ssbd\\headBanging\\headBanging_19.mp4\" # Replace with the path to your input video\n",
    "    output_folder = \"output_clips\"  # Replace with the desired output folder\n",
    "    clip_duration_seconds = 3  # Set the duration of each clip in seconds\n",
    "\n",
    "    split_video(input_video_path, output_folder, clip_duration_seconds)\n"
   ]
  }
 ],
 "metadata": {
  "kernelspec": {
   "display_name": "Python 3",
   "language": "python",
   "name": "python3"
  },
  "language_info": {
   "codemirror_mode": {
    "name": "ipython",
    "version": 3
   },
   "file_extension": ".py",
   "mimetype": "text/x-python",
   "name": "python",
   "nbconvert_exporter": "python",
   "pygments_lexer": "ipython3",
   "version": "3.8.0"
  }
 },
 "nbformat": 4,
 "nbformat_minor": 2
}
